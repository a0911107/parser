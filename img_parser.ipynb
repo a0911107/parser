{
 "cells": [
  {
   "cell_type": "code",
   "execution_count": 38,
   "metadata": {},
   "outputs": [],
   "source": [
    "import requests\n",
    "from bs4 import BeautifulSoup\n",
    "from urllib.request import urlretrieve\n",
    "import re\n",
    "url='https://www.ptt.cc/bbs/Beauty/index.html'\n",
    "req=requests.get(url,cookies={'over18':'1'}).text.encode('utf-8')\n",
    "soup=BeautifulSoup(req,'lxml')\n",
    "articles=soup.select('div.r-ent a')\n",
    "\n",
    "for article in articles:\n",
    "    req=requests.get('https://www.ptt.cc'+article['href'],cookies={'over18':'1'})\n",
    "    soup=BeautifulSoup(req.text,'lxml')\n",
    "    \n",
    "    if len(soup.findAll('a',{'href':re.compile('https:\\/\\/i\\.imgur\\.com\\/.*')})) >0:\n",
    "        for index, img_url in enumerate(soup.findAll('a',{'href':re.compile('https:\\/\\/i\\.imgur\\.com\\/.*')})):\n",
    "            try:\n",
    "                urlretrieve(img_url['href'], 'C:\\\\Users\\\\p06\\\\Desktop\\\\p\\\\{}_{}.jpg'.format(article.text, index))\n",
    "            except:\n",
    "                print('{} {}_{}.jpg 下載失敗!'.format(img_url['href'],article.text, index))\n",
    "    else\n"
   ]
  },
  {
   "cell_type": "code",
   "execution_count": null,
   "metadata": {},
   "outputs": [],
   "source": []
  }
 ],
 "metadata": {
  "kernelspec": {
   "display_name": "Python 3",
   "language": "python",
   "name": "python3"
  },
  "language_info": {
   "codemirror_mode": {
    "name": "ipython",
    "version": 3
   },
   "file_extension": ".py",
   "mimetype": "text/x-python",
   "name": "python",
   "nbconvert_exporter": "python",
   "pygments_lexer": "ipython3",
   "version": "3.7.4"
  }
 },
 "nbformat": 4,
 "nbformat_minor": 2
}
